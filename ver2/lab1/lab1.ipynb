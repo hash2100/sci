{
 "cells": [
  {
   "cell_type": "code",
   "execution_count": 1,
   "metadata": {},
   "outputs": [],
   "source": [
    "# 1. In matematica, intervalul este definit ca diferenta dintre cel mai mare si cel mai mic numar\n",
    "# dintr-o lista. De exemplu:\n",
    "A = (3, 5, 7, 23, 11, 42, 80)\n",
    "# Intervalul lui A este 80 - 3 = 77\n",
    "\n",
    "# Creati o functie care primeste o lista si intoarce \":)\" daca intervalul listei este egal cu un alt element,\n",
    "# sau \":(\" in caz contrar. Daca argumentul nu este o lista se intoarce \":/\". Lista nu contine duplicate. \n",
    "# De exemplu:\n",
    "# \n",
    "# face_interval([1, 2, 5, 8, 3, 9]) ➞ \":)\"\n",
    "#\n",
    "# face_interval([5, 2, 8, 3, 11]) ➞ \":(\"\n",
    "#\n",
    "# face_interval(\"bruh\") ➞ \":/\""
   ]
  },
  {
   "cell_type": "code",
   "execution_count": 1,
   "metadata": {},
   "outputs": [],
   "source": [
    "import numpy as np"
   ]
  },
  {
   "cell_type": "code",
   "execution_count": 16,
   "metadata": {},
   "outputs": [],
   "source": [
    "A = [3, 5, 7, 23, 11, 42, 80]\n",
    "\n",
    "\n",
    "def face_interval(l):\n",
    "    if type(l) is not list:\n",
    "        return ':/'\n",
    "    \n",
    "    return ':)' if (max(l) - min(l)) in l else ':('\n",
    "\n",
    "assert face_interval([1, 2, 5, 8, 3, 9]) == \":)\"\n",
    "\n",
    "assert face_interval([5, 2, 8, 3, 11]) == \":(\"\n",
    "\n",
    "assert face_interval(\"bruh\") == \":/\""
   ]
  },
  {
   "cell_type": "code",
   "execution_count": 2,
   "metadata": {},
   "outputs": [],
   "source": [
    "# 2. Operatorul de shiftare la dreapta e similar cu aplicarea floor la rezultatul impartirii \n",
    "# prin puterile lui 2. De exemplu:\n",
    "#\n",
    "# 80 >> 3 = floor(80/2^3) = floor(80/8) = 10\n",
    "# -24 >> 2 = floor(-24/2^2) = floor(-24/4) = -6\n",
    "# -5 >> 1 = floor(-5/2^1) = floor(-5/2) = -3\n",
    "\n",
    "# Scrieti o functie care realizeaza acest lucru, fara a folosi operatorul de shift >>.\n",
    "# Exemple:\n",
    "\n",
    "# shift_to_right(80, 3) ➞ 10\n",
    "#\n",
    "# shift_to_right(-24, 2) ➞ -6\n",
    "#\n",
    "# shift_to_right(-5, 1) ➞ -3\n",
    "#\n",
    "# shift_to_right(4666, 6) ➞ 72\n",
    "#\n",
    "# shift_to_right(3777, 6) ➞ 59\n",
    "#\n",
    "# shift_to_right(-512, 10) ➞ -1\n",
    "\n",
    "# Obs:\n",
    "# * al doilea parametru nu poate lua valori negative;\n",
    "# * sub nici o forma nu va veti folosi de operatorul de shift;\n",
    "# * rezolvati problema atat recursiv cat si iterativ."
   ]
  },
  {
   "cell_type": "code",
   "execution_count": 3,
   "metadata": {},
   "outputs": [],
   "source": [
    "# 3. Imaginati-va un cerc si doua patrate: unul mic, inscris in cerc, si unul mare, circumscris cercului.\n",
    "# Patratele sunt presupuse a avea laturile paralele. Creati o functie care primeste un parametru intreg (raza\n",
    "# cercului) si intoarce diferenta dintre ariile celor doua patrate. De exemplu:\n",
    "\n",
    "# square_areas_difference(5) ➞ 5\n",
    "# square_areas_difference(6) ➞ 72\n",
    "# square_areas_difference(7) ➞ 98"
   ]
  },
  {
   "cell_type": "code",
   "execution_count": 4,
   "metadata": {},
   "outputs": [],
   "source": [
    "# 4. Lucrati pentru o fabrica si e necesar sa calculati profitul total realizat din vanzarea unui produs.\n",
    "# Aveti un dictionar care contine costul de productie, (cost_price), pretul de vanzare (sell_price)\n",
    "# precum si numarul de bucati (inventory). Calculati profitul total realizat, rotunjit in sus la valoarea\n",
    "# intreaga. De exemplu:\n",
    "\n",
    "# profit({\n",
    "#  \"cost_price\": 32.67,\n",
    "#  \"sell_price\": 45.00,\n",
    "#  \"inventory\": 1200\n",
    "# }) ➞ 14796\n",
    "#\n",
    "# profit({\n",
    "#  \"cost_price\": 225.89,\n",
    "#  \"sell_price\": 550.00,\n",
    "#  \"inventory\": 100\n",
    "# }) ➞ 32411\n",
    "#\n",
    "# profit({\n",
    "#  \"cost_price\": 2.77,\n",
    "#  \"sell_price\": 7.95,\n",
    "#  \"inventory\": 8500\n",
    "# }) ➞ 44030"
   ]
  },
  {
   "cell_type": "code",
   "execution_count": null,
   "metadata": {},
   "outputs": [],
   "source": [
    "# 5. Creati o functie care primeste doua numere ca argumente (num, length) si intoarce\n",
    "# o lista multiplilor lui num pana cand lista ajunge la length elemente. num va fi si el in lista intoarsa.\n",
    "# De exemplu:\n",
    "#\n",
    "# list_of_multiples(7, 5) ➞ [7, 14, 21, 28, 35]\n",
    "# list_of_multiples(12, 10) ➞ [12, 24, 36, 48, 60, 72, 84, 96, 108, 120]\n",
    "# list_of_multiples(17, 6) ➞ [17, 34, 51, 68, 85, 102]"
   ]
  },
  {
   "cell_type": "code",
   "execution_count": 19,
   "metadata": {},
   "outputs": [
    {
     "data": {
      "text/plain": [
       "[0, 2, 4, 6, 8]"
      ]
     },
     "execution_count": 19,
     "metadata": {},
     "output_type": "execute_result"
    }
   ],
   "source": [
    "[x for x in range(10) if x % 2 == 0]"
   ]
  },
  {
   "cell_type": "code",
   "execution_count": 5,
   "metadata": {},
   "outputs": [],
   "source": [
    "# 6. Creati doua functii, una care primeste un string ca argument si intoarce codul Morse echivalent,\n",
    "# o a doua care primeste stringul encodat si il decodeaza ca text.\n",
    "# De exemplu:\n",
    "\n",
    "# encode_morse(\"HELP ME !\") ➞ \".... . .-.. .--.   -- .   -.-.--\"\n",
    "# decode_morse(\".... . .-.. .--.   -- .   -.-.--\") ➞ \"HELP ME !\"\n",
    "\n",
    "# Folositi urmatorul dictionar:\n",
    "\n",
    "char_to_dots = {\n",
    "  'A': '.-', 'B': '-...', 'C': '-.-.', 'D': '-..', 'E': '.', 'F': '..-.',\n",
    "  'G': '--.', 'H': '....', 'I': '..', 'J': '.---', 'K': '-.-', 'L': '.-..',\n",
    "  'M': '--', 'N': '-.', 'O': '---', 'P': '.--.', 'Q': '--.-', 'R': '.-.',\n",
    "  'S': '...', 'T': '-', 'U': '..-', 'V': '...-', 'W': '.--', 'X': '-..-',\n",
    "  'Y': '-.--', 'Z': '--..', ' ': ' ', '0': '-----',\n",
    "  '1': '.----', '2': '..---', '3': '...--', '4': '....-', '5': '.....',\n",
    "  '6': '-....', '7': '--...', '8': '---..', '9': '----.',\n",
    "  '&': '.-...', \"'\": '.----.', '@': '.--.-.', ')': '-.--.-', '(': '-.--.',\n",
    "  ':': '---...', ',': '--..--', '=': '-...-', '!': '-.-.--', '.': '.-.-.-',\n",
    "  '-': '-....-', '+': '.-.-.', '\"': '.-..-.', '?': '..--..', '/': '-..-.'\n",
    "}\n",
    "\n",
    "# Verificati corectitudinea codarii prin decodare si obtinerea aceluiasi sir. Detectati si secvente invalide."
   ]
  },
  {
   "cell_type": "code",
   "execution_count": 76,
   "metadata": {
    "scrolled": true
   },
   "outputs": [
    {
     "data": {
      "text/plain": [
       "(48, 57)"
      ]
     },
     "execution_count": 76,
     "metadata": {},
     "output_type": "execute_result"
    }
   ],
   "source": [
    "\".... . .-.. .--.   -- .   -.-.--\".split()\n",
    "ord('0'), ord('9')"
   ]
  },
  {
   "cell_type": "code",
   "execution_count": 6,
   "metadata": {},
   "outputs": [],
   "source": [
    "# 7. Scrieti o functie care intoarce True daca doua array-uri, combinate, formeaza o secventa consecutiva.\n",
    "# O secventa consecutiva este o secventa fara gap-uri intre intregi, de exemplu 1, 2, 3, 4, 5 este\n",
    "# o secventa consecutiva iar 1, 2, 4, 5 nu. Secventele vor fi liste cu intregi unici, care pot fi plasati\n",
    "# in orice ordine.\n",
    "\n",
    "# De exemplu:\n",
    "# consecutive_combo([7, 4, 5, 1], [2, 3, 6 ]) ➞ True\n",
    "# consecutive_combo([1, 4, 6, 5], [2, 7, 8, 9]) ➞ False\n",
    "# consecutive_combo([1, 4, 5, 6], [2, 3, 7, 8, 10]) ➞ False\n",
    "# consecutive_combo([44, 46], [45]) ➞ True\n",
    "\n",
    "# Dati o metoda de generare a unor astfel de doua secvente consecutive, cu un numar aleator de componente,\n",
    "# iar cele doua secvente sa fie ordonate aleator."
   ]
  },
  {
   "cell_type": "code",
   "execution_count": 32,
   "metadata": {},
   "outputs": [
    {
     "name": "stdout",
     "output_type": "stream",
     "text": [
      "[7, 4, 5, 1] [2, 3, 6]\n"
     ]
    },
    {
     "data": {
      "text/plain": [
       "True"
      ]
     },
     "execution_count": 32,
     "metadata": {},
     "output_type": "execute_result"
    }
   ],
   "source": [
    "l1, l2 = [7, 4, 5, 1], [2, 3, 6]\n",
    "print(l1, l2)\n",
    "\n",
    "l = sorted(l1 + l2)\n",
    "sum([abs(x[0] - x[1]) for x in zip(l[1:], l[:-1])]) == len(l) - 1"
   ]
  },
  {
   "cell_type": "code",
   "execution_count": 37,
   "metadata": {},
   "outputs": [
    {
     "data": {
      "text/plain": [
       "array([1, 1, 0, 1, 1, 0, 1, 1, 1, 1, 0, 1, 1, 1, 1, 1, 1, 0, 0, 0, 1, 1,\n",
       "       1, 0, 1, 0, 1, 0, 0, 1, 1, 0, 1, 1, 0, 1, 0, 0, 0, 0, 1, 1, 1, 0,\n",
       "       1, 0, 1, 1, 1, 1, 0, 0, 0, 1, 0, 0, 0, 0, 1, 0, 0, 1, 1, 1, 0, 0,\n",
       "       0, 1, 1, 1, 1, 0, 1, 0, 1, 0, 0, 1, 1, 0, 0, 1, 1, 1, 1, 1, 1, 1,\n",
       "       0, 1, 1, 0, 0, 1, 1, 1, 0, 0, 1, 0])"
      ]
     },
     "execution_count": 37,
     "metadata": {},
     "output_type": "execute_result"
    }
   ],
   "source": [
    "np.random.randint(2, size=100)"
   ]
  },
  {
   "cell_type": "code",
   "execution_count": 7,
   "metadata": {},
   "outputs": [],
   "source": [
    "# 8. Scrieti o functie care aduna doua numere. Numerele vor fi insa siruri (string-uri). De exemplu:\n",
    "#\n",
    "# add_str_nums(\"4\", \"5\") ➞ \"9\"\n",
    "# add_str_nums(\"abcdefg\", \"3\") ➞ \"-1\"\n",
    "# add_str_nums(\"1\", \"\") ➞ \"1\"\n",
    "# add_str_nums(\"1874682736267235927359283579235789257\", \"32652983572985729\") ➞ \"1874682736267235927391936562808774986\"\n",
    "\n",
    "# Nu veti folosi functia Python care aduna numere cu orice dimensiune, ci doar va veti verifica cu ajutorul ei.\n",
    "# Daca un numar are multe zerouri la inceputul sau, acestea vor fi ignorate (trimmed)."
   ]
  },
  {
   "cell_type": "code",
   "execution_count": 2,
   "metadata": {},
   "outputs": [
    {
     "data": {
      "text/plain": [
       "9"
      ]
     },
     "execution_count": 2,
     "metadata": {},
     "output_type": "execute_result"
    }
   ],
   "source": [
    "l1, l2 = '99945', '347'\n",
    "\n",
    "[x[0] + x[1] for x in zip([int(x) for x in l1], [0] * 2 + [int(x) for x in l2])]\n",
    "int(l1) + int(l2)\n",
    "int('9')"
   ]
  },
  {
   "cell_type": "code",
   "execution_count": 9,
   "metadata": {},
   "outputs": [],
   "source": [
    "# 9. Inmultirea matricilor.\n",
    "# Conditia este ca numarul de coloane din prima matrice sa fie egal cu numarul de linii din cea de-a doua.\n",
    "# Ca rezultat al inmultirii veti genera o noua matrice care are acelasi numar de linii ca si prima matrice\n",
    "# si acelasi numar de coloane ca cea de-a doua.\n",
    "#\n",
    "# De exemplu daca inmultiti o matrice n x k cu una k x m , veti obtine una de dimensiuni n x m.\n",
    "#   \n",
    "# Creati o functie care primeste doua liste bidimensionale, m1 si m2 ca argumente, si intoarce o matrice sub\n",
    "# forma de lista bidimensionala.\n",
    "#\n",
    "# Daca numarul de coloane din prima matrice nu este egal cu numarul de linii din cea de-a doua se va intoarce\n",
    "# \"eroare\".\n",
    "# De exemplu:\n",
    "\n",
    "# multiply_matrix([\n",
    "#  [1, 2, 3],\n",
    "#  [4, 5, 6],\n",
    "#  [7, 8, 9]\n",
    "#], [\n",
    "#  [1, 2, 3],\n",
    "#  [4, 5, 6],\n",
    "#  [7, 8, 9]\n",
    "#]) ➞ [\n",
    "#  [30, 36, 42],\n",
    "#  [66, 81, 96],\n",
    "#  [102, 126, 150]\n",
    "#]\n",
    "#\n",
    "# Veti verifica rezultatul obtinut folosind numpy. Mai departe veti genera aleator astfel de matrici pe care \n",
    "# le veti verifica cu numpy."
   ]
  },
  {
   "cell_type": "code",
   "execution_count": 46,
   "metadata": {},
   "outputs": [],
   "source": [
    "a = np.random.randn(3, 3)"
   ]
  },
  {
   "cell_type": "code",
   "execution_count": 50,
   "metadata": {},
   "outputs": [],
   "source": [
    "assert np.all(a @ np.eye(3) == a)"
   ]
  },
  {
   "cell_type": "code",
   "execution_count": 52,
   "metadata": {},
   "outputs": [
    {
     "name": "stdout",
     "output_type": "stream",
     "text": [
      "[[ 1  2]\n",
      " [ 3  4]\n",
      " [-1 -2]]\n",
      "a.shape: (3, 2)\n"
     ]
    }
   ],
   "source": [
    "a = np.array([[1, 2], [3, 4], [-1, -2]])\n",
    "print(a)\n",
    "print(f'a.shape: {a.shape}')"
   ]
  },
  {
   "cell_type": "code",
   "execution_count": 56,
   "metadata": {},
   "outputs": [
    {
     "data": {
      "text/plain": [
       "array([[ 1,  3, -1],\n",
       "       [ 2,  4, -2]])"
      ]
     },
     "execution_count": 56,
     "metadata": {},
     "output_type": "execute_result"
    }
   ],
   "source": [
    "a.transpose()"
   ]
  },
  {
   "cell_type": "code",
   "execution_count": 58,
   "metadata": {},
   "outputs": [
    {
     "data": {
      "text/plain": [
       "array([[  5,  11,  -5],\n",
       "       [ 11,  25, -11],\n",
       "       [ -5, -11,   5]])"
      ]
     },
     "execution_count": 58,
     "metadata": {},
     "output_type": "execute_result"
    }
   ],
   "source": [
    "a @ a.transpose()"
   ]
  },
  {
   "cell_type": "code",
   "execution_count": 59,
   "metadata": {},
   "outputs": [
    {
     "data": {
      "text/plain": [
       "array([[  5,  11,  -5],\n",
       "       [ 11,  25, -11],\n",
       "       [ -5, -11,   5]])"
      ]
     },
     "execution_count": 59,
     "metadata": {},
     "output_type": "execute_result"
    }
   ],
   "source": [
    "np.matmul(a, a.transpose())"
   ]
  },
  {
   "cell_type": "code",
   "execution_count": 61,
   "metadata": {},
   "outputs": [],
   "source": [
    "n, k, m = np.random.randint(low=1, high=20, size=3)"
   ]
  },
  {
   "cell_type": "code",
   "execution_count": 62,
   "metadata": {},
   "outputs": [
    {
     "data": {
      "text/plain": [
       "(7, 5, 14)"
      ]
     },
     "execution_count": 62,
     "metadata": {},
     "output_type": "execute_result"
    }
   ],
   "source": [
    "n, k, m"
   ]
  },
  {
   "cell_type": "code",
   "execution_count": 67,
   "metadata": {},
   "outputs": [
    {
     "data": {
      "text/plain": [
       "(7, 14)"
      ]
     },
     "execution_count": 67,
     "metadata": {},
     "output_type": "execute_result"
    }
   ],
   "source": [
    "(np.random.randn(n, k) @ np.random.randn(k, m)).shape"
   ]
  },
  {
   "cell_type": "code",
   "execution_count": null,
   "metadata": {},
   "outputs": [],
   "source": []
  }
 ],
 "metadata": {
  "kernelspec": {
   "display_name": "Python 3",
   "language": "python",
   "name": "python3"
  },
  "language_info": {
   "codemirror_mode": {
    "name": "ipython",
    "version": 3
   },
   "file_extension": ".py",
   "mimetype": "text/x-python",
   "name": "python",
   "nbconvert_exporter": "python",
   "pygments_lexer": "ipython3",
   "version": "3.6.9"
  }
 },
 "nbformat": 4,
 "nbformat_minor": 2
}
